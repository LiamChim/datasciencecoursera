{
    "cells": [
        {
            "cell_type": "markdown",
            "metadata": {
                "collapsed": true
            },
            "source": "# My Jupyter Notebook on IBM Watson Studio"
        },
        {
            "cell_type": "markdown",
            "metadata": {},
            "source": "**Linyan Le**\n\nData Scientist"
        },
        {
            "cell_type": "markdown",
            "metadata": {},
            "source": "I am interested in data science because I want to describe the world and predict the world through data."
        },
        {
            "cell_type": "markdown",
            "metadata": {},
            "source": "### Print \"I love Data\""
        },
        {
            "cell_type": "code",
            "execution_count": 4,
            "metadata": {},
            "outputs": [
                {
                    "name": "stdout",
                    "output_type": "stream",
                    "text": "I love Data\n"
                }
            ],
            "source": "print(\"I love Data\")"
        },
        {
            "cell_type": "markdown",
            "metadata": {},
            "source": "**bulleted list**\n\n* First\n* Second\n* Third\n\n**hyperlinks**\n\nThis is a [Link](www.ibm.com)\n\n**table**\n\n|  table   | table  |\n|  ----  | ----  |\n| cell  | cell |\n| cell  | cell |"
        }
    ],
    "metadata": {
        "kernelspec": {
            "display_name": "Python 3.8",
            "language": "python",
            "name": "python3"
        }
    },
    "nbformat": 4,
    "nbformat_minor": 1
}